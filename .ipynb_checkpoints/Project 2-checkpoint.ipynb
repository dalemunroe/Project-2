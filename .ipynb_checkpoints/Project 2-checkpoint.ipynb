{
 "cells": [
  {
   "cell_type": "code",
   "execution_count": null,
   "id": "0594dff9",
   "metadata": {},
   "outputs": [],
   "source": [
    "%matplotlib inline\n",
    "from matplotlib import style\n",
    "style.use('fivethirtyeight')\n",
    "import matplotlib.pyplot as plt\n",
    "import datetime\n",
    "from dateutil.relativedelta import relativedelta\n",
    "from pandas import DataFrame\n",
    "from matplotlib.dates import drange\n",
    "from sqlalchemy import func, and_, create_engine\n",
    "from sqlalchemy import desc\n",
    "from sqlalchemy import inspect\n",
    "from dotenv import load_dotenv\n",
    "import os"
   ]
  },
  {
   "cell_type": "code",
   "execution_count": null,
   "id": "e3907b4e",
   "metadata": {},
   "outputs": [],
   "source": [
    "import numpy as np\n",
    "import pandas as pd\n",
    "import datetime as dt"
   ]
  },
  {
   "cell_type": "code",
   "execution_count": null,
   "id": "1cda956f",
   "metadata": {},
   "outputs": [],
   "source": [
    "#Read csv\n",
    "csv_file = \"Resources/Suburb_house.csv\"\n",
    "suburb_data_df = pd.read_csv(csv_file)\n",
    "suburb_data_df.head()"
   ]
  },
  {
   "cell_type": "code",
   "execution_count": null,
   "id": "aa1a7561",
   "metadata": {},
   "outputs": [],
   "source": [
    "#Read csv\n",
    "median_income = pd.read_csv('Resources/G02_median_incomes.csv')\n",
    "median_income.head()"
   ]
  },
  {
   "cell_type": "code",
   "execution_count": null,
   "id": "c00b1bd4",
   "metadata": {},
   "outputs": [],
   "source": [
    "#Read csv\n",
    "csv_path = \"Resources/solar_data_by_postcode.csv\"\n",
    "\n",
    "# Import the comic_books_expanded.csv file as a DataFrame\n",
    "solar_df = pd.read_csv(csv_path, encoding=\"utf-8\")\n",
    "# Check the special characters imported correctly\n",
    "print(solar_df.shape)\n",
    "solar_df.head()"
   ]
  },
  {
   "cell_type": "code",
   "execution_count": null,
   "id": "6a92b004",
   "metadata": {},
   "outputs": [],
   "source": [
    "load_dotenv()\n",
    "protocol = 'postgresql'\n",
    "username = os.environ.get('db_UserName')\n",
    "password = os.environ.get('db_Password')\n",
    "host = 'localhost'\n",
    "port = 5432\n",
    "database_name = 'Project_2'\n",
    "rds_connection_string = f'{protocol}://{username}:{password}@{host}:{port}/{database_name}'\n",
    "engine = create_engine(rds_connection_string)\n",
    "insp = inspect(engine)\n"
   ]
  },
  {
   "cell_type": "code",
   "execution_count": null,
   "id": "7fc5feac",
   "metadata": {},
   "outputs": [],
   "source": [
    "#Part 1\n",
    "house_prices_df = suburb_data_df[[\"SUBURB\",\"PRICE\",\"BEDROOMS\",\t\"BATHROOMS\",\t\"GARAGE\",\t\"LAND_AREA\",\t\"FLOOR_AREA\",\t\"CBD_DIST\",\t\"NEAREST_STN_DIST\",\t\"DATE_SOLD\",\t\"NEAREST_SCH_DIST\"]].copy()\n",
    "house_prices_df.head()"
   ]
  },
  {
   "cell_type": "code",
   "execution_count": null,
   "id": "dcfff553",
   "metadata": {},
   "outputs": [],
   "source": [
    "house_prices_df.columns= house_prices_df.columns.str.lower()\n",
    "house_prices_df.head()"
   ]
  },
  {
   "cell_type": "code",
   "execution_count": null,
   "id": "886eebb0",
   "metadata": {},
   "outputs": [],
   "source": [
    " insp.get_table_names()"
   ]
  },
  {
   "cell_type": "code",
   "execution_count": null,
   "id": "3695c4d6",
   "metadata": {},
   "outputs": [],
   "source": [
    "suburb_output ='Output/suburb_prices.csv'\n",
    "\n",
    "house_prices_df.to_csv(suburb_output,header=True,index=True)"
   ]
  },
  {
   "cell_type": "code",
   "execution_count": null,
   "id": "08a5a86a",
   "metadata": {},
   "outputs": [],
   "source": [
    "house_prices_df.to_sql(name='house_prices', con=engine, if_exists='append', index=False)"
   ]
  },
  {
   "cell_type": "code",
   "execution_count": null,
   "id": "523f6718",
   "metadata": {},
   "outputs": [],
   "source": [
    "#Part 2\n",
    "solar_post_codes = solar_df[\"Small Unit Installation Postcode\"]\n",
    "solar_post_codes.describe"
   ]
  },
  {
   "cell_type": "code",
   "execution_count": null,
   "id": "d420f350",
   "metadata": {},
   "outputs": [],
   "source": [
    "solar_install_qty_sum = solar_df.iloc[:,[1,3,5,7,9,11,13,15,17]].sum(axis=1)\n",
    "solar_install_qty_sum"
   ]
  },
  {
   "cell_type": "code",
   "execution_count": null,
   "id": "1c083e03",
   "metadata": {},
   "outputs": [],
   "source": [
    "solar_install_kw_sum = solar_df.iloc[:,[2,4,6,8,10,12,14,16,18]].sum(axis=1)\n",
    "solar_install_kw_sum"
   ]
  },
  {
   "cell_type": "code",
   "execution_count": null,
   "id": "0ae10ef5",
   "metadata": {},
   "outputs": [],
   "source": [
    "solar_metadata_df = pd.DataFrame({\"post_code\": solar_post_codes,\n",
    "                            \"installation_qty\": solar_install_qty_sum,\n",
    "                            \"rated_output\": solar_install_kw_sum}) \n",
    "solar_metadata_df .head()"
   ]
  },
  {
   "cell_type": "code",
   "execution_count": null,
   "id": "0f2475c5",
   "metadata": {},
   "outputs": [],
   "source": [
    "solar_metadata_WAonly_df = solar_metadata_df[(solar_metadata_df[\"post_code\"] >= 6000) &\n",
    "                            (solar_metadata_df[\"post_code\"] < 7000)]\n",
    "\n",
    "solar_metadata_WAonly_df"
   ]
  },
  {
   "cell_type": "code",
   "execution_count": null,
   "id": "8d4f3aa8",
   "metadata": {},
   "outputs": [],
   "source": [
    "solar_metadata_WAonly_df = solar_metadata_WAonly_df.sort_values(\"post_code\")\n",
    "solar_metadata_WAonly_df = solar_metadata_WAonly_df.reset_index(drop=True)\n",
    "solar_metadata_WAonly_df"
   ]
  },
  {
   "cell_type": "code",
   "execution_count": null,
   "id": "06da31ad",
   "metadata": {},
   "outputs": [],
   "source": [
    "# Push cleaned DataFrame to a new CSV file\n",
    "solar_metadata_WAonly_df.to_csv(\"Output/solar_metadata_WAonly_df.csv\",\n",
    "                  encoding=\"utf-8\", index=False, header=True)"
   ]
  },
  {
   "cell_type": "code",
   "execution_count": null,
   "id": "991916c2",
   "metadata": {},
   "outputs": [],
   "source": [
    "solar_metadata_WAonly_df.to_sql(name='solar_metadata_waonly', con=engine, if_exists='append', index=False)"
   ]
  },
  {
   "cell_type": "code",
   "execution_count": null,
   "id": "a1a8cc66",
   "metadata": {},
   "outputs": [],
   "source": [
    "#Part 3\n",
    "list(median_income.columns)"
   ]
  },
  {
   "cell_type": "code",
   "execution_count": null,
   "id": "d95946b4",
   "metadata": {},
   "outputs": [],
   "source": [
    "# Remove superflus columns for median income\n",
    "median_income = median_income[['POA_CODE_2021',\n",
    " 'Median_age_persons',\n",
    " 'Median_tot_prsnl_inc_weekly',\n",
    " 'Median_tot_fam_inc_weekly',\n",
    " 'Median_tot_hhd_inc_weekly']]\n",
    "median_income.head()"
   ]
  },
  {
   "cell_type": "code",
   "execution_count": null,
   "id": "03b53531",
   "metadata": {},
   "outputs": [],
   "source": [
    "# Load csv with ABS data for income by hourshold composition\n",
    "household_income = pd.read_csv('Resources/G33_household_income.csv')\n",
    "household_income.head()"
   ]
  },
  {
   "cell_type": "code",
   "execution_count": null,
   "id": "83eafa8f",
   "metadata": {},
   "outputs": [],
   "source": [
    "# Review columns for relevance\n",
    "list(household_income.columns)"
   ]
  },
  {
   "cell_type": "code",
   "execution_count": null,
   "id": "9fd4fd0a",
   "metadata": {},
   "outputs": [],
   "source": [
    "# Remove superflus columns for household income\n",
    "household_income = household_income[['POA_CODE_2021',\n",
    " 'Negative_Nil_income_Tot',\n",
    " 'HI_1_149_Tot',\n",
    " 'HI_150_299_Tot',\n",
    " 'HI_300_399_Tot',\n",
    " 'HI_400_499_Tot',\n",
    " 'HI_500_649_Tot',\n",
    " 'HI_650_799_Tot',\n",
    " 'HI_800_999_Tot',\n",
    " 'HI_1000_1249_Tot',\n",
    " 'HI_1250_1499_Tot',\n",
    " 'HI_1500_1749_Tot',\n",
    " 'HI_1750_1999_Tot',\n",
    " 'HI_2000_2499_Tot',\n",
    " 'HI_2500_2999_Tot',\n",
    " 'HI_3000_3499_Tot',\n",
    " 'HI_3500_3999_Tot',\n",
    " 'HI_4000_more_Tot',\n",
    " 'Partial_income_stated_Tot',\n",
    " 'All_incomes_not_stated_Tot',\n",
    " 'Tot_Family_households',\n",
    " 'Tot_Non_family_households']]\n",
    "household_income.head()"
   ]
  },
  {
   "cell_type": "code",
   "execution_count": null,
   "id": "670f6d3b",
   "metadata": {},
   "outputs": [],
   "source": [
    "# Load csv with ABS data for individual income\n",
    "individual_incomeA = pd.read_csv('Resources/2021Census_G17A_WA_POA.csv')\n",
    "individual_incomeB = pd.read_csv('Resources/2021Census_G17B_WA_POA.csv')\n",
    "individual_incomeC = pd.read_csv('Resources/2021Census_G17C_WA_POA.csv')\n",
    "# Merge the three individual income CSVs\n",
    "\n",
    "individual_income = pd.merge(individual_incomeA,individual_incomeB,on=\"POA_CODE_2021\")\n",
    "individual_income = pd.merge(individual_income,individual_incomeC,on=\"POA_CODE_2021\")\n",
    "individual_income.head()"
   ]
  },
  {
   "cell_type": "code",
   "execution_count": null,
   "id": "5e57fa44",
   "metadata": {},
   "outputs": [],
   "source": [
    "# Review columns for relevance\n",
    "list(individual_income.columns)"
   ]
  },
  {
   "cell_type": "code",
   "execution_count": null,
   "id": "8be8b2d5",
   "metadata": {},
   "outputs": [],
   "source": [
    "# Remove columns to remove age split & people totals\n",
    "individual_income = individual_income[['POA_CODE_2021',\n",
    " 'M_Neg_Nil_income_Tot',\n",
    " 'M_1_149_Tot',\n",
    " 'M_150_299_Tot',\n",
    " 'M_300_399_Tot',\n",
    " 'M_400_499_Tot',\n",
    " 'M_500_649_Tot',\n",
    " 'M_650_799_Tot',\n",
    " 'M_800_999_Tot',\n",
    " 'M_1000_1249_Tot',\n",
    " 'M_1250_1499_Tot',\n",
    " 'M_1500_1749_Tot',\n",
    " 'M_1750_1999_Tot',\n",
    " 'M_2000_2999_Tot',\n",
    " 'M_3000_3499_Tot',\n",
    " 'M_3500_more_Tot',\n",
    " 'M_PI_NS_ns_Tot',\n",
    " 'F_Neg_Nil_income_Tot',\n",
    " 'F_1_149_Tot',\n",
    " 'F_150_299_Tot',\n",
    " 'F_300_399_Tot',\n",
    " 'F_400_499_Tot',\n",
    " 'F_500_649_Tot',\n",
    " 'F_650_799_Tot',\n",
    " 'F_800_999_Tot',\n",
    " 'F_1000_1249_Tot',\n",
    " 'F_1250_1499_Tot',\n",
    " 'F_1500_1749_Tot',\n",
    " 'F_1750_1999_Tot',\n",
    " 'F_2000_2999_Tot',\n",
    " 'F_3000_3499_Tot',\n",
    " 'F_3500_more_Tot',\n",
    " 'F_PI_NS_ns_Tot']]\n",
    "individual_income.head()"
   ]
  },
  {
   "cell_type": "code",
   "execution_count": null,
   "id": "025a9ee5",
   "metadata": {},
   "outputs": [],
   "source": [
    "# Merge the three CSVs\n",
    "\n",
    "median_household_income = pd.merge(median_income,household_income,on=\"POA_CODE_2021\")\n",
    "median_household_income = pd.merge(median_household_income,individual_income,on=\"POA_CODE_2021\")\n",
    "median_household_income.head()"
   ]
  },
  {
   "cell_type": "code",
   "execution_count": null,
   "id": "a29036f6",
   "metadata": {},
   "outputs": [],
   "source": [
    "# Review columns for relevance\n",
    "list(median_household_income.columns)"
   ]
  },
  {
   "cell_type": "code",
   "execution_count": null,
   "id": "38f2b819",
   "metadata": {},
   "outputs": [],
   "source": [
    "# Remove POA from Postcode number\n",
    "\n",
    "median_household_income[\"POA_CODE_2021\"]=median_household_income[\"POA_CODE_2021\"].str[3:]\n",
    "median_household_income.head()"
   ]
  },
  {
   "cell_type": "code",
   "execution_count": null,
   "id": "c800067e",
   "metadata": {},
   "outputs": [],
   "source": [
    "median_household_income.columns= median_household_income.columns.str.lower()\n",
    "median_household_income.head()"
   ]
  },
  {
   "cell_type": "code",
   "execution_count": null,
   "id": "1eeac0ea",
   "metadata": {},
   "outputs": [],
   "source": [
    "output_csv='Output/income_data.csv'\n",
    "\n",
    "median_household_income.to_csv(output_csv,header=True,index=True)"
   ]
  },
  {
   "cell_type": "code",
   "execution_count": null,
   "id": "662fb3bc",
   "metadata": {},
   "outputs": [],
   "source": [
    "median_household_income.to_sql(name='Median Income', con=engine, if_exists='append', index=False)"
   ]
  }
 ],
 "metadata": {
  "kernelspec": {
   "display_name": "Python [conda env:PythonData] *",
   "language": "python",
   "name": "conda-env-PythonData-py"
  },
  "language_info": {
   "codemirror_mode": {
    "name": "ipython",
    "version": 3
   },
   "file_extension": ".py",
   "mimetype": "text/x-python",
   "name": "python",
   "nbconvert_exporter": "python",
   "pygments_lexer": "ipython3",
   "version": "3.7.7"
  }
 },
 "nbformat": 4,
 "nbformat_minor": 5
}
